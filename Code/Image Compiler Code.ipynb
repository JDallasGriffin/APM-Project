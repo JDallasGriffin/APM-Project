{
 "cells": [
  {
   "cell_type": "markdown",
   "metadata": {},
   "source": [
    "### Summary\n",
    "\n",
    "Code below iterates through our training data, converts each image into an array and resizes them. Final output should be an array of arrays, with each pixel represented as numbers."
   ]
  },
  {
   "cell_type": "code",
   "execution_count": 25,
   "metadata": {
    "collapsed": false
   },
   "outputs": [],
   "source": [
    "import os\n",
    "from PIL import Image\n",
    "import numpy as np\n",
    "\n",
    "STANDARD_SIZE = (300, 300)   #Desired resized size\n",
    "\n",
    "def img_to_matrix(filename):   #Conver image to pixel representations\n",
    "    \"\"\"\n",
    "    takes a filename and turns it into a numpy array of RGB pixels\n",
    "    \"\"\"\n",
    "    img = Image.open(filename)\n",
    "    img = img.resize(STANDARD_SIZE)\n",
    "    img = list(img.getdata())\n",
    "    img = map(list, img)\n",
    "    img = np.array(img)\n",
    "    return img\n",
    "\n",
    "\n",
    "rootdir = (os.getcwd()) #Location of TrainImages folder. os.getcwd gets the current directory.\n",
    "image_array = []                 #Change folder to appropriate directory.\n",
    "\n",
    "for subdir, dirs, files in os.walk(rootdir):\n",
    "    for file in files:\n",
    "        if file.endswith(\"jpg\"):\n",
    "            file = img_to_matrix(os.path.join(subdir, file))\n",
    "            image_array.append(file)\n",
    "        elif file.endswith(\"png\"):\n",
    "            file = img_to_matrix(os.path.join(subdir, file))\n",
    "            image_array.append(file)\n",
    "            "
   ]
  }
 ],
 "metadata": {
  "anaconda-cloud": {},
  "kernelspec": {
   "display_name": "Python [Root]",
   "language": "python",
   "name": "Python [Root]"
  },
  "language_info": {
   "codemirror_mode": {
    "name": "ipython",
    "version": 2
   },
   "file_extension": ".py",
   "mimetype": "text/x-python",
   "name": "python",
   "nbconvert_exporter": "python",
   "pygments_lexer": "ipython2",
   "version": "2.7.11"
  }
 },
 "nbformat": 4,
 "nbformat_minor": 0
}
