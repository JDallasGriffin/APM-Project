{
 "cells": [
  {
   "cell_type": "markdown",
   "metadata": {},
   "source": [
    "# Caffe Neural Net Tutorial\n",
    "\n",
    "This is a Notebook execution of the Caffe Tutorial:\n",
    "http://christopher5106.github.io/deep/learning/2015/09/04/Deep-learning-tutorial-on-Caffe-Technology.html"
   ]
  },
  {
   "cell_type": "markdown",
   "metadata": {},
   "source": [
    "### Load Training Model"
   ]
  },
  {
   "cell_type": "code",
   "execution_count": 2,
   "metadata": {
    "collapsed": true
   },
   "outputs": [],
   "source": [
    "import numpy as np\n",
    "import matplotlib.pyplot as plt\n",
    "from PIL import Image\n",
    "import caffe\n",
    "from IPython.display import Image as I_Image"
   ]
  },
  {
   "cell_type": "code",
   "execution_count": 11,
   "metadata": {
    "collapsed": false
   },
   "outputs": [
    {
     "data": {
      "text/plain": [
       "{'TMP': 'C:\\\\Users\\\\Dallas\\\\AppData\\\\Local\\\\Temp', 'COMPUTERNAME': 'DESKTOP-NIOF01C', 'VS140COMNTOOLS': 'C:\\\\Program Files (x86)\\\\Microsoft Visual Studio 14.0\\\\Common7\\\\Tools\\\\', 'VS110COMNTOOLS': 'C:\\\\Program Files (x86)\\\\Microsoft Visual Studio 11.0\\\\Common7\\\\Tools\\\\', 'USERDOMAIN': 'DESKTOP-NIOF01C', 'PSMODULEPATH': 'C:\\\\Program Files\\\\WindowsPowerShell\\\\Modules;C:\\\\WINDOWS\\\\system32\\\\WindowsPowerShell\\\\v1.0\\\\Modules', 'COMMONPROGRAMFILES': 'C:\\\\Program Files\\\\Common Files', 'CUDA_PATH_V8_0': 'C:\\\\Program Files\\\\NVIDIA GPU Computing Toolkit\\\\CUDA\\\\v8.0', 'PROCESSOR_IDENTIFIER': 'Intel64 Family 6 Model 94 Stepping 3, GenuineIntel', 'VBOX_MSI_INSTALL_PATH': 'C:\\\\Program Files\\\\Oracle\\\\VirtualBox\\\\', 'PROGRAMFILES': 'C:\\\\Program Files', 'PROCESSOR_REVISION': '5e03', 'NVCUDASAMPLES8_0_ROOT': 'C:\\\\ProgramData\\\\NVIDIA Corporation\\\\CUDA Samples\\\\v8.0', 'SYSTEMROOT': 'C:\\\\WINDOWS', 'CLICOLOR': '1', 'PROGRAMFILES(X86)': 'C:\\\\Program Files (x86)', 'TK_LIBRARY': 'C:\\\\Users\\\\Dallas\\\\Anaconda2\\\\tcl\\\\tk8.5', 'TERM': 'xterm-color', 'DOCKER_TOOLBOX_INSTALL_PATH': 'C:\\\\Program Files\\\\Docker Toolbox', 'TEMP': 'C:\\\\Users\\\\Dallas\\\\AppData\\\\Local\\\\Temp', 'COMMONPROGRAMFILES(X86)': 'C:\\\\Program Files (x86)\\\\Common Files', 'PROCESSOR_ARCHITECTURE': 'AMD64', 'TIX_LIBRARY': 'C:\\\\Users\\\\Dallas\\\\Anaconda2\\\\tcl\\\\tix8.4.3', 'ALLUSERSPROFILE': 'C:\\\\ProgramData', 'LOCALAPPDATA': 'C:\\\\Users\\\\Dallas\\\\AppData\\\\Local', 'HOMEPATH': '\\\\Users\\\\Dallas', 'USERDOMAIN_ROAMINGPROFILE': 'DESKTOP-NIOF01C', 'VS120COMNTOOLS': 'C:\\\\Program Files (x86)\\\\Microsoft Visual Studio 12.0\\\\Common7\\\\Tools\\\\', 'JPY_INTERRUPT_EVENT': '1508', 'PROGRAMW6432': 'C:\\\\Program Files', 'USERNAME': 'Dallas', 'LOGONSERVER': '\\\\\\\\DESKTOP-NIOF01C', 'CMAKE': 'C:\\\\Program Files\\\\CMake', 'COMSPEC': 'C:\\\\WINDOWS\\\\system32\\\\cmd.exe', 'JPY_PARENT_PID': '1752', 'PROGRAMDATA': 'C:\\\\ProgramData', 'CUDA_PATH': 'C:\\\\Program Files\\\\NVIDIA GPU Computing Toolkit\\\\CUDA\\\\v8.0', 'NVCUDASAMPLES_ROOT': 'C:\\\\ProgramData\\\\NVIDIA Corporation\\\\CUDA Samples\\\\v8.0', 'TCL_LIBRARY': 'C:\\\\Users\\\\Dallas\\\\Anaconda2\\\\tcl\\\\tcl8.5', 'PATH': 'C:\\\\Users\\\\Dallas\\\\Anaconda2\\\\Library\\\\bin;C:\\\\Users\\\\Dallas\\\\Anaconda2\\\\Library\\\\bin;C:\\\\Users\\\\Dallas\\\\Anaconda2\\\\Scripts;C:\\\\Users\\\\Dallas\\\\Anaconda2\\\\Library\\\\bin;C:\\\\Program Files\\\\NVIDIA GPU Computing Toolkit\\\\CUDA\\\\v8.0\\\\bin;C:\\\\Program Files\\\\NVIDIA GPU Computing Toolkit\\\\CUDA\\\\v8.0\\\\libnvvp;C:\\\\Program Files (x86)\\\\Intel\\\\iCLS Client\\\\;C:\\\\Program Files\\\\Intel\\\\iCLS Client\\\\;C:\\\\Windows\\\\system32;C:\\\\Windows;C:\\\\Windows\\\\System32\\\\Wbem;C:\\\\Windows\\\\System32\\\\WindowsPowerShell\\\\v1.0\\\\;C:\\\\Program Files (x86)\\\\Intel\\\\Intel(R) Management Engine Components\\\\DAL;C:\\\\Program Files\\\\Intel\\\\Intel(R) Management Engine Components\\\\DAL;C:\\\\Program Files (x86)\\\\Intel\\\\Intel(R) Management Engine Components\\\\IPT;C:\\\\Program Files\\\\Intel\\\\Intel(R) Management Engine Components\\\\IPT;C:\\\\Program Files (x86)\\\\NVIDIA Corporation\\\\PhysX\\\\Common;C:\\\\Program Files\\\\Intel\\\\WiFi\\\\bin\\\\;C:\\\\Program Files\\\\Common Files\\\\Intel\\\\WirelessCommon\\\\;C:\\\\WINDOWS\\\\system32;C:\\\\WINDOWS;C:\\\\WINDOWS\\\\System32\\\\Wbem;C:\\\\WINDOWS\\\\System32\\\\WindowsPowerShell\\\\v1.0\\\\;C:\\\\Program Files (x86)\\\\Addinsoft\\\\XLSTAT;C:\\\\Program Files (x86)\\\\Pandoc\\\\;C:\\\\Program Files (x86)\\\\PharosSystems\\\\Core;C:\\\\Program Files\\\\Git\\\\cmd;C:\\\\TDM-GCC-64\\\\bin;C:\\\\Users\\\\Dallas\\\\.dnx\\\\bin;C:\\\\Program Files\\\\Microsoft DNX\\\\Dnvm\\\\;C:\\\\Program Files\\\\Microsoft SQL Server\\\\130\\\\Tools\\\\Binn\\\\;C:\\\\Program Files\\\\CMake\\\\bin;C:\\\\Program Files (x86)\\\\Windows Kits\\\\8.1\\\\Windows Performance Toolkit\\\\;C:\\\\Program Files\\\\Microsoft SQL Server\\\\110\\\\Tools\\\\Binn\\\\;C:\\\\Program Files (x86)\\\\Microsoft SDKs\\\\TypeScript\\\\1.0\\\\;C:\\\\Users\\\\Dallas\\\\DataScience\\\\caffe-master\\\\python;C:\\\\Program Files (x86)\\\\Graphviz2.38\\\\bin;C:\\\\Users\\\\Dallas\\\\Anaconda2;C:\\\\Users\\\\Dallas\\\\Anaconda2\\\\Scripts;C:\\\\Users\\\\Dallas\\\\Anaconda2\\\\Library\\\\bin;C:\\\\Users\\\\Dallas\\\\AppData\\\\Local\\\\Microsoft\\\\WindowsApps;C:\\\\Program Files\\\\Docker Toolbox;C:\\\\Users\\\\Dallas\\\\DataScience\\\\cudnn-8.0-windows10-x64-v5.1\\\\cuda\\\\bin;C:\\\\Users\\\\Dallas\\\\DataScience\\\\caffe-master\\\\python;C:\\\\Program Files (x86)\\\\Graphviz2.38\\\\bin', 'PROMPT': '$P$G', 'MPLBACKEND': 'module://ipykernel.pylab.backend_inline', 'GIT_PAGER': 'cat', 'NVTOOLSEXT_PATH': 'C:\\\\Program Files\\\\NVIDIA Corporation\\\\NvToolsExt\\\\', 'PATHEXT': '.COM;.EXE;.BAT;.CMD;.VBS;.VBE;.JS;.JSE;.WSF;.WSH;.MSC', 'SESSIONNAME': 'Console', 'WINDIR': 'C:\\\\WINDOWS', 'MOZ_PLUGIN_PATH': 'C:\\\\Program Files (x86)\\\\Foxit Software\\\\Foxit Reader\\\\plugins\\\\', 'HOMEDRIVE': 'C:', 'PAGER': 'cat', 'SYSTEMDRIVE': 'C:', 'NUMBER_OF_PROCESSORS': '8', 'APPDATA': 'C:\\\\Users\\\\Dallas\\\\AppData\\\\Roaming', 'PROCESSOR_LEVEL': '6', 'COMMONPROGRAMW6432': 'C:\\\\Program Files\\\\Common Files', 'OS': 'Windows_NT', 'PUBLIC': 'C:\\\\Users\\\\Public', 'IPY_INTERRUPT_EVENT': '1508', 'USERPROFILE': 'C:\\\\Users\\\\Dallas'}"
      ]
     },
     "execution_count": 11,
     "metadata": {},
     "output_type": "execute_result"
    }
   ],
   "source": [
    "import os\n",
    "\n",
    "os.environ"
   ]
  },
  {
   "cell_type": "code",
   "execution_count": 5,
   "metadata": {
    "collapsed": true
   },
   "outputs": [],
   "source": [
    "caffe.set_mode_gpu()"
   ]
  },
  {
   "cell_type": "code",
   "execution_count": null,
   "metadata": {
    "collapsed": false
   },
   "outputs": [],
   "source": [
    "#Build neural net from prototext file\n",
    "net = caffe.Net('sample.prototxt', caffe.TEST)"
   ]
  },
  {
   "cell_type": "code",
   "execution_count": null,
   "metadata": {
    "collapsed": false
   },
   "outputs": [],
   "source": [
    "print net.inputs\n",
    "\n",
    "# Display out layers with respective shapes\n",
    "[(k, v.data.shape) for k, v in net.blobs.items()]"
   ]
  },
  {
   "cell_type": "code",
   "execution_count": null,
   "metadata": {
    "collapsed": false
   },
   "outputs": [],
   "source": [
    "# Display weight & bias parameters\n",
    "[(k, v[0].data.shape, v[1].data.shape) for k, v in net.params.items()]"
   ]
  },
  {
   "cell_type": "code",
   "execution_count": null,
   "metadata": {
    "collapsed": false
   },
   "outputs": [],
   "source": [
    "print net.blobs['conv'].data.shape"
   ]
  },
  {
   "cell_type": "markdown",
   "metadata": {},
   "source": [
    "### Draw Neural Network"
   ]
  },
  {
   "cell_type": "code",
   "execution_count": null,
   "metadata": {
    "collapsed": false
   },
   "outputs": [],
   "source": [
    "# Draw script: C:\\Users\\Dallas\\DataScience\\caffe-master\\Build\\x64\\Release\\pycaffe\\draw_net.py\n",
    "# Net file : C:\\Users\\Dallas\\OneDrive\\MSBA Program\\Fall 2016 Courses\\Adv Predictive Modeling\\APM-Project\\Code\\sample.prototxt\n",
    "# Net file: C:\\Program Files\\caffe-master\\examples\\net_surgery\\conv.prototxt\n",
    "\n",
    "! python \"C:\\Users\\Dallas\\DataScience\\caffe-master\\Build\\x64\\Release\\pycaffe\\draw_net.py\"\\\n",
    "         \"C:\\Users\\Dallas\\OneDrive\\MSBA Program\\Fall 2016 Courses\\Adv Predictive Modeling\\APM-Project\\Code\\sample.prototxt\"\\\n",
    "          my_net.png\n",
    "\n",
    "I_Image(filename = \"my_net.png\")"
   ]
  },
  {
   "cell_type": "markdown",
   "metadata": {},
   "source": [
    "### Load & Prepare Training Data"
   ]
  },
  {
   "cell_type": "code",
   "execution_count": null,
   "metadata": {
    "collapsed": false
   },
   "outputs": [],
   "source": [
    "im = np.array(Image.open('C:\\Users\\Dallas\\DataScience\\caffe-master\\examples\\images\\cat_gray.jpg'))\n",
    "plt.imshow(im,cmap = 'gray')\n",
    "plt.show()"
   ]
  },
  {
   "cell_type": "code",
   "execution_count": null,
   "metadata": {
    "collapsed": false
   },
   "outputs": [],
   "source": [
    "#Reshape the data blob (1, 1, 100, 100) to the new size (1, 1, 360, 480) to fit the image\n",
    "im_input = im[np.newaxis, np.newaxis, :, :]\n",
    "net.blobs['data'].reshape(*im_input.shape)\n",
    "net.blobs['data'].data[...] = im_input\n",
    "\n",
    "net.blobs['data'].data.shape"
   ]
  },
  {
   "cell_type": "code",
   "execution_count": null,
   "metadata": {
    "collapsed": false
   },
   "outputs": [],
   "source": [
    "#Compute blobs given input\n",
    "net.forward()"
   ]
  },
  {
   "cell_type": "code",
   "execution_count": null,
   "metadata": {
    "collapsed": false
   },
   "outputs": [],
   "source": [
    "#Print convolutions\n",
    "for i in range(3):\n",
    "    plt.subplot(1, 3, i+1), plt.imshow(net.blobs['conv'].data[0,i], cmap = 'gray')\n",
    "\n",
    "plt.show()"
   ]
  },
  {
   "cell_type": "markdown",
   "metadata": {
    "collapsed": true
   },
   "source": [
    "### Download & Run Pre-Trained Model"
   ]
  },
  {
   "cell_type": "code",
   "execution_count": null,
   "metadata": {
    "collapsed": false
   },
   "outputs": [],
   "source": [
    "# Download Model script: C:/Program Files/caffe-master/scripts/download_model_binary.py\n",
    "# Download Model script from Gist: C:/Program Files/caffe-master/scripts/download_model_from_gist.sh\n",
    "# Script location for model of interest: C:/Program Files/caffe-master/data/ilsvrc12/get_ilsvrc_aux.sh\n",
    "# Location to save pre-trained model: C:/Program Files/caffe-master/models/bvlc_reference_caffenet\n",
    "\n",
    "! python \"C:/Users/Dallas/DataScience/caffe-master/scripts/download_model_binary.py\" \"C:/Users/Dallas/DataScience/caffe-master/models/bvlc_reference_caffenet\" "
   ]
  },
  {
   "cell_type": "code",
   "execution_count": null,
   "metadata": {
    "collapsed": false
   },
   "outputs": [],
   "source": [
    "# Draw file location: \"C:\\Program Files\\caffe-master\\Build\\x64\\Release\\pycaffe\\draw_net.py\"\n",
    "# Net file location: \"C:\\Program Files\\caffe-master\\examples\\net_surgery\\conv.prototxt\"\n",
    "\n",
    "! python \"C:\\Users\\Dallas\\DataScience\\caffe-master\\Build\\x64\\Release\\pycaffe\\draw_net.py\"\\\n",
    "         \"C:\\Users\\Dallas\\DataScience\\caffe-master\\examples\\net_surgery\\bvlc_caffenet_full_conv.prototxt\"\\\n",
    "          my_net2.png\n",
    "\n",
    "I_Image(filename = \"my_net2.png\")"
   ]
  },
  {
   "cell_type": "code",
   "execution_count": null,
   "metadata": {
    "collapsed": true
   },
   "outputs": [],
   "source": [
    "# Build Neural Net w/ Pre-Trained Model\n",
    "net = caffe.Net('C:/Users/Dallas/DataScience/caffe-master/models/bvlc_reference_caffenet/deploy.prototxt',\n",
    "                'C:/Users/Dallas/DataScience/caffe-master/models/bvlc_reference_caffenet/bvlc_reference_caffenet.caffemodel',\n",
    "                caffe.TEST)\n",
    "\n",
    "# load data input and configure preprocessing\n",
    "transformer = caffe.io.Transformer({'data': net.blobs['data'].data.shape})\n",
    "transformer.set_mean('data', np.load('python/caffe/imagenet/ilsvrc_2012_mean.npy').mean(1).mean(1))\n",
    "transformer.set_transpose('data', (2,0,1))\n",
    "transformer.set_channel_swap('data', (2,1,0))\n",
    "transformer.set_raw_scale('data', 255.0)\n",
    "\n",
    "# Change expected batch size from 10 to 1 since only classifying one image\n",
    "net.blobs['data'].reshape(1,3,227,227)\n",
    "\n",
    "#load the image in the data layer\n",
    "im = caffe.io.load_image('C:\\Users\\Dallas\\DataScience\\caffe-master\\examples\\images\\cat.jpg')\n",
    "net.blobs['data'].data[...] = transformer.preprocess('data', im)\n",
    "\n",
    "#compute\n",
    "out = net.forward()\n",
    "\n",
    "#predicted predicted class\n",
    "print out['prob'].argmax()\n",
    "\n",
    "#print predicted labels\n",
    "labels = np.loadtxt(\"C:/Users/Dallas/DataScience/caffe-master/data/ilsvrc12/synset_words.txt\", str, delimiter='\\t')\n",
    "top_k = net.blobs['prob'].data[0].flatten().argsort()[-1:-6:-1]\n",
    "print labels[top_k]"
   ]
  },
  {
   "cell_type": "markdown",
   "metadata": {},
   "source": [
    "## Train Model from Scratch"
   ]
  },
  {
   "cell_type": "code",
   "execution_count": null,
   "metadata": {
    "collapsed": true
   },
   "outputs": [],
   "source": [
    "solver = caffe.get_solver('C:/Users/Dallas/DataScience/caffe-master/models/bvlc_reference_caffenet/solver.prototxt')"
   ]
  },
  {
   "cell_type": "code",
   "execution_count": null,
   "metadata": {
    "collapsed": true
   },
   "outputs": [],
   "source": []
  }
 ],
 "metadata": {
  "anaconda-cloud": {},
  "kernelspec": {
   "display_name": "Python [default]",
   "language": "python",
   "name": "python2"
  },
  "language_info": {
   "codemirror_mode": {
    "name": "ipython",
    "version": 2
   },
   "file_extension": ".py",
   "mimetype": "text/x-python",
   "name": "python",
   "nbconvert_exporter": "python",
   "pygments_lexer": "ipython2",
   "version": "2.7.12"
  }
 },
 "nbformat": 4,
 "nbformat_minor": 1
}
